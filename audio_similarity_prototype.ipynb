{
 "cells": [
  {
   "cell_type": "markdown",
   "metadata": {},
   "source": [
    "# Obecná audio podobnost"
   ]
  },
  {
   "cell_type": "markdown",
   "metadata": {},
   "source": [
    "## MFCC deskriptor"
   ]
  },
  {
   "cell_type": "code",
   "execution_count": 78,
   "metadata": {},
   "outputs": [],
   "source": [
    "import librosa\n",
    "import librosa.display\n",
    "import matplotlib.pyplot as plt\n",
    "from dtw import dtw\n",
    "from numpy.linalg import norm"
   ]
  },
  {
   "cell_type": "code",
   "execution_count": 79,
   "metadata": {},
   "outputs": [
    {
     "name": "stderr",
     "output_type": "stream",
     "text": [
      "/Users/jstorm31/Dev/Python/mvv-project/env/lib/python3.8/site-packages/librosa/core/audio.py:162: UserWarning: PySoundFile failed. Trying audioread instead.\n",
      "  warnings.warn(\"PySoundFile failed. Trying audioread instead.\")\n"
     ]
    }
   ],
   "source": [
    "y1, sr1 = librosa.load('data/sample_1.wav')\n",
    "y2, sr2 = librosa.load('data/dubstep_beat_1.wav')\n",
    "y3, sr3 = librosa.load('data/dubstep_drum.mp3')"
   ]
  },
  {
   "cell_type": "code",
   "execution_count": 80,
   "metadata": {},
   "outputs": [
    {
     "data": {
      "text/plain": [
       "<matplotlib.collections.QuadMesh at 0x1256c0640>"
      ]
     },
     "execution_count": 80,
     "metadata": {},
     "output_type": "execute_result"
    },
    {
     "data": {
      "image/png": "[encoded data removed]",
      "text/plain": [
       "<Figure size 432x288 with 3 Axes>"
      ]
     },
     "metadata": {},
     "output_type": "display_data"
    }
   ],
   "source": [
    "#Showing multiple plots using subplot\n",
    "plt.subplot(1, 3, 1) \n",
    "mfcc1 = librosa.feature.mfcc(y1,sr1)   #Computing MFCC values\n",
    "librosa.display.specshow(mfcc1)\n",
    "\n",
    "plt.subplot(1, 3, 2)\n",
    "mfcc2 = librosa.feature.mfcc(y2, sr2)\n",
    "librosa.display.specshow(mfcc2)\n",
    "\n",
    "plt.subplot(1, 3, 3)\n",
    "mfcc3 = librosa.feature.mfcc(y3, sr3)\n",
    "librosa.display.specshow(mfcc3)"
   ]
  },
  {
   "cell_type": "code",
   "execution_count": 31,
   "metadata": {},
   "outputs": [
    {
     "name": "stdout",
     "output_type": "stream",
     "text": [
      "Normalized distance between the two sounds: 267284.28454589844\n"
     ]
    }
   ],
   "source": [
    "dist, cost, acc_cost, path = dtw(mfcc1.T, mfcc2.T, dist=lambda x, y: norm(x - y, ord=1))\n",
    "print('Normalized distance between the two sounds:', dist)"
   ]
  },
  {
   "cell_type": "code",
   "execution_count": 36,
   "metadata": {},
   "outputs": [
    {
     "name": "stdout",
     "output_type": "stream",
     "text": [
      "Normalized distance between the two sounds: 195374.9662246704\n"
     ]
    }
   ],
   "source": [
    "dist, cost, acc_cost, path = dtw(mfcc3.T, mfcc2.T, dist=lambda x, y: norm(x - y, ord=1))\n",
    "print('Normalized distance between the two sounds:', dist)"
   ]
  },
  {
   "cell_type": "markdown",
   "metadata": {},
   "source": [
    "## Fingerprinting"
   ]
  },
  {
   "cell_type": "code",
   "execution_count": 1,
   "metadata": {},
   "outputs": [],
   "source": [
    "import acoustid"
   ]
  },
  {
   "cell_type": "code",
   "execution_count": 9,
   "metadata": {},
   "outputs": [],
   "source": [
    "duration1, fingerprint1 = acoustid.fingerprint_file('data/dubstep_beat_1.wav')"
   ]
  },
  {
   "cell_type": "code",
   "execution_count": 10,
   "metadata": {},
   "outputs": [],
   "source": [
    "duration2, fingerprint2 = acoustid.fingerprint_file('data/dubstep_drum.mp3')"
   ]
  },
  {
   "cell_type": "code",
   "execution_count": 65,
   "metadata": {},
   "outputs": [],
   "source": [
    "popcnt_table_8bit = [\n",
    "    0,1,1,2,1,2,2,3,1,2,2,3,2,3,3,4,1,2,2,3,2,3,3,4,2,3,3,4,3,4,4,5,\n",
    "    1,2,2,3,2,3,3,4,2,3,3,4,3,4,4,5,2,3,3,4,3,4,4,5,3,4,4,5,4,5,5,6,\n",
    "    1,2,2,3,2,3,3,4,2,3,3,4,3,4,4,5,2,3,3,4,3,4,4,5,3,4,4,5,4,5,5,6,\n",
    "    2,3,3,4,3,4,4,5,3,4,4,5,4,5,5,6,3,4,4,5,4,5,5,6,4,5,5,6,5,6,6,7,\n",
    "    1,2,2,3,2,3,3,4,2,3,3,4,3,4,4,5,2,3,3,4,3,4,4,5,3,4,4,5,4,5,5,6,\n",
    "    2,3,3,4,3,4,4,5,3,4,4,5,4,5,5,6,3,4,4,5,4,5,5,6,4,5,5,6,5,6,6,7,\n",
    "    2,3,3,4,3,4,4,5,3,4,4,5,4,5,5,6,3,4,4,5,4,5,5,6,4,5,5,6,5,6,6,7,\n",
    "    3,4,4,5,4,5,5,6,4,5,5,6,5,6,6,7,4,5,5,6,5,6,6,7,5,6,6,7,6,7,7,8,\n",
    "]\n",
    "\n",
    "def popcnt(x):\n",
    "    \"\"\"\n",
    "    Count the number of set bits in the given 32-bit integer.\n",
    "    \"\"\"\n",
    "    return (popcnt_table_8bit[(x >>  0) & 0xFF] +\n",
    "            popcnt_table_8bit[(x >>  8) & 0xFF] +\n",
    "            popcnt_table_8bit[(x >> 16) & 0xFF] +\n",
    "            popcnt_table_8bit[(x >> 24) & 0xFF])"
   ]
  },
  {
   "cell_type": "code",
   "execution_count": 72,
   "metadata": {},
   "outputs": [],
   "source": [
    "def compare_fingerprints(fp1, fp2):\n",
    "    error = 0\n",
    "    for x, y in zip(fp1, fp2):\n",
    "        error += popcnt(x ^ y)\n",
    "    print(1.0 - error / 32.0 / min(len(fp1), len(fp2)))"
   ]
  },
  {
   "cell_type": "code",
   "execution_count": 31,
   "metadata": {},
   "outputs": [
    {
     "data": {
      "text/plain": [
       "b'AQAAWcqWLNkiI0-I5lkOHcWz482MH9CHHz9SPSu-4zv6w04WBMcvnKic8XhzHGiO7sHhmEF_OEcf5WjOEF0z9IGWmEEfiGdwHCeOR5SI74F9aFfwRfh4OE2WFW-KH3qI53hyIc07HLl0MGGUBRJ-VMGp4zTu44Tw7BIqXQiTvPjwBw2XBTl69MePyjne_MDRH40e42jyoM-KJke_HM0X9FkIAhAEBiAoGAKQAIAMIlQxJoSQiDgikCAACeCQAwApYoBwiClPFFAIIUEJEAopRogySCmoAGQKCAGkAsQZYYgAAg'"
      ]
     },
     "execution_count": 31,
     "metadata": {},
     "output_type": "execute_result"
    }
   ],
   "source": [
    "fingerprint1"
   ]
  },
  {
   "cell_type": "code",
   "execution_count": 82,
   "metadata": {},
   "outputs": [],
   "source": [
    "fpcalc_out=\"FINGERPRINT=1097131814,1097099559,1365727511,1365661973,1365661957,1366711749,1364641157,1398194565,1398194565,1398199175,1406583687,1408680903,1374012262,1373946150,1365566758,1348756790,1348951318,1348951319,1348885783,1432769815,1432831255,1165391175,1163281863,1163314631,1163314631,1163380215,1163183463,1163191655,1163392263,1165481239,1165350263,1198810471,1196914007,1196836295,1196934615,1196742053,1196746165,1196946839,1196938647,1196937623,1196814743,1196814807,1199002391,1098348311,1097301815,1097088805,1097083237,1365536229,1400329605,1398198661,1381417349,1138147719,1140245127,1135002439,1105511206,1105512230,1097101095,1097292063,1097292053,1130780949,1130781125,1131826565,1129760133,1398260101,1398198661,1398198663,1375126151,1369883607,1373946662,1373955878,1348792102,1348984086,1348951319,1348885767,1415992599,1432765719,1433826631,1163281863,1163281863,1163314631,1171768791,1163183463,1163191655,1163388183,1165415687,1165481335,1198847335,1198875991,1196840263\"\n",
    "fpcalc_out2=\"FINGERPRINT=1699902959,1701988079,1710444271,1706118879,1706098375,1708191303,1741745935,1733422367,1733424159,1733555231,1733554207,1729319039,1729196287,1697870335,1702000623,1710378735,1710444287,1706127071,1706094287,1708191311,1708191503,1733424415,1733424191,1733424191,1733554239,1729359999,1695764735,1695774207,1702000623,1710378735,1710444271,1706151639,1710288455,1708191303,1741745935,1733424415,1733424191\""
   ]
  },
  {
   "cell_type": "code",
   "execution_count": 83,
   "metadata": {},
   "outputs": [],
   "source": [
    "fingerprint_index = fpcalc_out.find('FINGERPRINT=') + 12"
   ]
  },
  {
   "cell_type": "code",
   "execution_count": 84,
   "metadata": {},
   "outputs": [],
   "source": [
    "fp1 = list(map(int, fpcalc_out[fingerprint_index:].split(',')))\n",
    "fp2 = list(map(int, fpcalc_out2[fingerprint_index:].split(',')))"
   ]
  },
  {
   "cell_type": "code",
   "execution_count": 85,
   "metadata": {},
   "outputs": [
    {
     "name": "stdout",
     "output_type": "stream",
     "text": [
      "0.5793918918918919\n"
     ]
    }
   ],
   "source": [
    "compare_fingerprints(fp1, fp2)"
   ]
  },
  {
   "cell_type": "markdown",
   "metadata": {},
   "source": [
    "### Otázky\n",
    " - Jak kombinovat více deskriptorů?\n",
    " - Co s různou délkou souborů? Co když je nahrávka uprostřed toho druhého songu?\n",
    " - Co s výkonností u porovnávání deskriptorů?\n"
   ]
  }
 ],
 "metadata": {
  "kernelspec": {
   "display_name": "env",
   "language": "python",
   "name": "env"
  },
  "language_info": {
   "codemirror_mode": {
    "name": "ipython",
    "version": 3
   },
   "file_extension": ".py",
   "mimetype": "text/x-python",
   "name": "python",
   "nbconvert_exporter": "python",
   "pygments_lexer": "ipython3",
   "version": "3.8.5"
  }
 },
 "nbformat": 4,
 "nbformat_minor": 4
}
