{
 "cells": [
  {
   "cell_type": "markdown",
   "metadata": {},
   "source": [
    "# Obecná audio podobnost"
   ]
  },
  {
   "cell_type": "markdown",
   "metadata": {},
   "source": [
    "## MFCC deskriptor + DTW distance"
   ]
  },
  {
   "cell_type": "code",
   "execution_count": 257,
   "metadata": {},
   "outputs": [],
   "source": [
    "import librosa\n",
    "import librosa.display\n",
    "import matplotlib.pyplot as plt\n",
    "from dtw import dtw, accelerated_dtw\n",
    "from numpy.linalg import norm\n",
    "import numpy as np\n",
    "import math\n",
    "import time"
   ]
  },
  {
   "cell_type": "markdown",
   "metadata": {},
   "source": [
    "### Extract MFCC feature"
   ]
  },
  {
   "cell_type": "code",
   "execution_count": 273,
   "metadata": {},
   "outputs": [],
   "source": [
    "def extract_mfcc(file):\n",
    "    signal, sr = librosa.load('data/' + file)\n",
    "    mfcc = librosa.feature.mfcc(signal, n_mfcc=13, sr=sr)\n",
    "    return mfcc"
   ]
  },
  {
   "cell_type": "markdown",
   "metadata": {},
   "source": [
    "### Split one audio track into multiple samples"
   ]
  },
  {
   "cell_type": "code",
   "execution_count": 306,
   "metadata": {},
   "outputs": [],
   "source": [
    "N = 400 # Sample size\n",
    "\n",
    "def split_mfcc(mfcc):\n",
    "    n_samples = math.floor(mfcc.shape[1] / SAMPLE_SIZE)\n",
    "    last_sample_size = mfcc.shape[1] % SAMPLE_SIZE\n",
    "#    print('Splitting into %d samples of size %d. Last sample has size %d.' % (n_samples, SAMPLE_SIZE, last_sample_size))\n",
    "    \n",
    "    samples = []\n",
    "    for i in range(n_samples):\n",
    "        samples.append(mfcc[:, i*N:(i+1)*N])\n",
    "    samples.append(mfcc[:, n_samples*N:])\n",
    "    \n",
    "    return samples"
   ]
  },
  {
   "cell_type": "markdown",
   "metadata": {},
   "source": [
    "### Build reference database of audio samples"
   ]
  },
  {
   "cell_type": "code",
   "execution_count": 299,
   "metadata": {},
   "outputs": [],
   "source": [
    "def build_db(files):\n",
    "    db = []\n",
    "    \n",
    "    for file in files:\n",
    "        mfcc = extract_mfcc(file)\n",
    "        samples = split_mfcc(mfcc)\n",
    "\n",
    "        for sample in samples:\n",
    "            db.append({ 'file': file, 'mfcc': sample })\n",
    "    \n",
    "    print(\"Added %d samples of %d audiotracks\" % (len(db), len(files)))\n",
    "    return np.array(db, dtype=object)"
   ]
  },
  {
   "cell_type": "markdown",
   "metadata": {},
   "source": [
    "### Distance measure"
   ]
  },
  {
   "cell_type": "code",
   "execution_count": 300,
   "metadata": {},
   "outputs": [],
   "source": [
    "def distance(a, b):\n",
    "    dist, cost, acc_cost, path = dtw(a.T, b.T, dist=lambda x, y: norm(x - y, ord=1))\n",
    "    return dist"
   ]
  },
  {
   "cell_type": "markdown",
   "metadata": {},
   "source": [
    "### Find the most similar match"
   ]
  },
  {
   "cell_type": "code",
   "execution_count": 301,
   "metadata": {},
   "outputs": [],
   "source": [
    "def find_match(mfcc, db):\n",
    "    start = time.time()\n",
    "    matches = []\n",
    "    \n",
    "    # Loop over all samples in the database and find the best match\n",
    "    for sample in db:\n",
    "        dist = None\n",
    "        \n",
    "        # Align both samples to the same size\n",
    "        if mfcc.shape[1] == sample['mfcc'].shape[1]:\n",
    "            dist = distance(mfcc, sample['mfcc'])\n",
    "        elif mfcc.shape[1] < sample['mfcc'].shape[1]:\n",
    "            dist = distance(mfcc, sample['mfcc'][:, mfcc.shape[1]])\n",
    "        else:\n",
    "            dist = distance(mfcc[:, sample['mfcc'].shape[1]], sample['mfcc'])\n",
    "        \n",
    "        matches.append({ 'file': sample['file'], 'dist': dist })\n",
    "\n",
    "    matches = sorted(matches, key=lambda x: x['dist'])\n",
    "    print(\"Time: %.2f s\" % (time.time() - start))\n",
    "    return matches"
   ]
  },
  {
   "cell_type": "markdown",
   "metadata": {},
   "source": [
    "### Run"
   ]
  },
  {
   "cell_type": "code",
   "execution_count": 307,
   "metadata": {},
   "outputs": [
    {
     "name": "stderr",
     "output_type": "stream",
     "text": [
      "/usr/local/lib/python3.8/site-packages/librosa/core/audio.py:162: UserWarning: PySoundFile failed. Trying audioread instead.\n",
      "  warnings.warn(\"PySoundFile failed. Trying audioread instead.\")\n",
      "/usr/local/lib/python3.8/site-packages/librosa/core/audio.py:162: UserWarning: PySoundFile failed. Trying audioread instead.\n",
      "  warnings.warn(\"PySoundFile failed. Trying audioread instead.\")\n"
     ]
    },
    {
     "name": "stdout",
     "output_type": "stream",
     "text": [
      "Added 6 samples of 4 audiotracks\n"
     ]
    }
   ],
   "source": [
    "files = ['sample_1.wav', 'dubstep_beat_1.wav', 'dubstep_drum.mp3', 'trance.m4a']\n",
    "db = build_db(files)"
   ]
  },
  {
   "cell_type": "code",
   "execution_count": 308,
   "metadata": {},
   "outputs": [
    {
     "name": "stderr",
     "output_type": "stream",
     "text": [
      "/usr/local/lib/python3.8/site-packages/librosa/core/audio.py:162: UserWarning: PySoundFile failed. Trying audioread instead.\n",
      "  warnings.warn(\"PySoundFile failed. Trying audioread instead.\")\n"
     ]
    },
    {
     "name": "stdout",
     "output_type": "stream",
     "text": [
      "Time: 4.62 s\n"
     ]
    },
    {
     "data": {
      "text/plain": [
       "[{'file': 'sample_1.wav', 'dist': 35945.62905883789},\n",
       " {'file': 'dubstep_beat_1.wav', 'dist': 86426.36378479004},\n",
       " {'file': 'sample_1.wav', 'dist': 119476.18923950195},\n",
       " {'file': 'trance.m4a', 'dist': 148126.52734375},\n",
       " {'file': 'dubstep_drum.mp3', 'dist': 149414.47550964355},\n",
       " {'file': 'dubstep_beat_1.wav', 'dist': 209982.72225952148}]"
      ]
     },
     "execution_count": 308,
     "metadata": {},
     "output_type": "execute_result"
    }
   ],
   "source": [
    "mfcc = extract_mfcc('recorded_sample_1.m4a')[:, :N]\n",
    "find_match(mfcc, db)"
   ]
  },
  {
   "cell_type": "code",
   "execution_count": 310,
   "metadata": {},
   "outputs": [
    {
     "name": "stderr",
     "output_type": "stream",
     "text": [
      "/usr/local/lib/python3.8/site-packages/librosa/core/audio.py:162: UserWarning: PySoundFile failed. Trying audioread instead.\n",
      "  warnings.warn(\"PySoundFile failed. Trying audioread instead.\")\n"
     ]
    },
    {
     "name": "stdout",
     "output_type": "stream",
     "text": [
      "Time: 4.61 s\n"
     ]
    },
    {
     "data": {
      "text/plain": [
       "[{'file': 'sample_1.wav', 'dist': 37445.249908447266},\n",
       " {'file': 'dubstep_beat_1.wav', 'dist': 85355.85360717773},\n",
       " {'file': 'trance.m4a', 'dist': 141331.39974975586},\n",
       " {'file': 'dubstep_drum.mp3', 'dist': 149616.13061523438},\n",
       " {'file': 'sample_1.wav', 'dist': 152272.89219665527},\n",
       " {'file': 'dubstep_beat_1.wav', 'dist': 178349.8076171875}]"
      ]
     },
     "execution_count": 310,
     "metadata": {},
     "output_type": "execute_result"
    }
   ],
   "source": [
    "mfcc = extract_mfcc('trance_2.m4a')[:, :N]\n",
    "find_match(mfcc, db)"
   ]
  },
  {
   "cell_type": "markdown",
   "metadata": {},
   "source": [
    "## Experiments"
   ]
  },
  {
   "cell_type": "code",
   "execution_count": 141,
   "metadata": {},
   "outputs": [
    {
     "name": "stderr",
     "output_type": "stream",
     "text": [
      "/usr/local/lib/python3.8/site-packages/librosa/core/audio.py:162: UserWarning: PySoundFile failed. Trying audioread instead.\n",
      "  warnings.warn(\"PySoundFile failed. Trying audioread instead.\")\n",
      "/usr/local/lib/python3.8/site-packages/librosa/core/audio.py:162: UserWarning: PySoundFile failed. Trying audioread instead.\n",
      "  warnings.warn(\"PySoundFile failed. Trying audioread instead.\")\n"
     ]
    }
   ],
   "source": [
    "y1, sr1 = librosa.load('data/sample_1.wav')\n",
    "y2, sr2 = librosa.load('data/dubstep_beat_1.wav')\n",
    "y3, sr3 = librosa.load('data/dubstep_drum.mp3')\n",
    "y4, sr4 = librosa.load('data/recorded_sample_1.m4a')"
   ]
  },
  {
   "cell_type": "code",
   "execution_count": 142,
   "metadata": {},
   "outputs": [
    {
     "data": {
      "text/plain": [
       "<matplotlib.collections.QuadMesh at 0x12db4af10>"
      ]
     },
     "execution_count": 142,
     "metadata": {},
     "output_type": "execute_result"
    },
    {
     "data": {
      "image/png": "[encoded data removed]",
      "text/plain": [
       "<Figure size 432x288 with 4 Axes>"
      ]
     },
     "metadata": {},
     "output_type": "display_data"
    }
   ],
   "source": [
    "#Showing multiple plots using subplot\n",
    "plt.subplot(1, 4, 1) \n",
    "mfcc1 = librosa.feature.mfcc(y1,sr1)   #Computing MFCC values\n",
    "librosa.display.specshow(mfcc1)\n",
    "\n",
    "plt.subplot(1, 4, 2)\n",
    "mfcc4 = librosa.feature.mfcc(y4, sr4)\n",
    "librosa.display.specshow(mfcc4)\n",
    "\n",
    "plt.subplot(1, 4, 3)\n",
    "mfcc2 = librosa.feature.mfcc(y2, sr2)\n",
    "librosa.display.specshow(mfcc2)\n",
    "\n",
    "plt.subplot(1, 4, 4)\n",
    "mfcc3 = librosa.feature.mfcc(y3, sr3)\n",
    "librosa.display.specshow(mfcc3)"
   ]
  },
  {
   "cell_type": "code",
   "execution_count": 143,
   "metadata": {},
   "outputs": [
    {
     "data": {
      "text/plain": [
       "(20, 150)"
      ]
     },
     "execution_count": 143,
     "metadata": {},
     "output_type": "execute_result"
    }
   ],
   "source": [
    "mfcc4 = mfcc4[:, 50:200]\n",
    "mfcc4.shape"
   ]
  },
  {
   "cell_type": "code",
   "execution_count": 144,
   "metadata": {},
   "outputs": [
    {
     "data": {
      "text/plain": [
       "(20, 150)"
      ]
     },
     "execution_count": 144,
     "metadata": {},
     "output_type": "execute_result"
    }
   ],
   "source": [
    "mfcc1 = mfcc1[:, :mfcc4.shape[1]]\n",
    "mfcc1.shape"
   ]
  },
  {
   "cell_type": "code",
   "execution_count": 145,
   "metadata": {},
   "outputs": [
    {
     "name": "stdout",
     "output_type": "stream",
     "text": [
      "Normalized distance between the two sounds: 67012.24461364746\n"
     ]
    }
   ],
   "source": [
    "dist, cost, acc_cost, path = dtw(mfcc1.T, mfcc4.T, dist=lambda x, y: norm(x - y, ord=1))\n",
    "print('Normalized distance between the two sounds:', dist)"
   ]
  },
  {
   "cell_type": "code",
   "execution_count": 81,
   "metadata": {},
   "outputs": [
    {
     "name": "stdout",
     "output_type": "stream",
     "text": [
      "Normalized distance between the two sounds: 124291.7311706543\n"
     ]
    }
   ],
   "source": [
    "dist, cost, acc_cost, path = dtw(mfcc3.T, mfcc2.T, dist=lambda x, y: norm(x - y, ord=1))\n",
    "print('Normalized distance between the two sounds:', dist)"
   ]
  },
  {
   "cell_type": "markdown",
   "metadata": {},
   "source": [
    "## Fingerprinting"
   ]
  },
  {
   "cell_type": "code",
   "execution_count": 13,
   "metadata": {},
   "outputs": [],
   "source": [
    "import acoustid"
   ]
  },
  {
   "cell_type": "code",
   "execution_count": 14,
   "metadata": {},
   "outputs": [
    {
     "ename": "NoBackendError",
     "evalue": "fpcalc not found",
     "output_type": "error",
     "traceback": [
      "\u001b[0;31m---------------------------------------------------------------------------\u001b[0m",
      "\u001b[0;31mFileNotFoundError\u001b[0m                         Traceback (most recent call last)",
      "\u001b[0;32m/usr/local/lib/python3.8/site-packages/acoustid.py\u001b[0m in \u001b[0;36m_fingerprint_file_fpcalc\u001b[0;34m(path, maxlength)\u001b[0m\n\u001b[1;32m    286\u001b[0m         \u001b[0;32mwith\u001b[0m \u001b[0mopen\u001b[0m\u001b[0;34m(\u001b[0m\u001b[0mos\u001b[0m\u001b[0;34m.\u001b[0m\u001b[0mdevnull\u001b[0m\u001b[0;34m,\u001b[0m \u001b[0;34m'wb'\u001b[0m\u001b[0;34m)\u001b[0m \u001b[0;32mas\u001b[0m \u001b[0mdevnull\u001b[0m\u001b[0;34m:\u001b[0m\u001b[0;34m\u001b[0m\u001b[0;34m\u001b[0m\u001b[0m\n\u001b[0;32m--> 287\u001b[0;31m             proc = subprocess.Popen(command, stdout=subprocess.PIPE,\n\u001b[0m\u001b[1;32m    288\u001b[0m                                     stderr=devnull)\n",
      "\u001b[0;32m/usr/local/Cellar/python@3.8/3.8.6_1/Frameworks/Python.framework/Versions/3.8/lib/python3.8/subprocess.py\u001b[0m in \u001b[0;36m__init__\u001b[0;34m(self, args, bufsize, executable, stdin, stdout, stderr, preexec_fn, close_fds, shell, cwd, env, universal_newlines, startupinfo, creationflags, restore_signals, start_new_session, pass_fds, encoding, errors, text)\u001b[0m\n\u001b[1;32m    853\u001b[0m \u001b[0;34m\u001b[0m\u001b[0m\n\u001b[0;32m--> 854\u001b[0;31m             self._execute_child(args, executable, preexec_fn, close_fds,\n\u001b[0m\u001b[1;32m    855\u001b[0m                                 \u001b[0mpass_fds\u001b[0m\u001b[0;34m,\u001b[0m \u001b[0mcwd\u001b[0m\u001b[0;34m,\u001b[0m \u001b[0menv\u001b[0m\u001b[0;34m,\u001b[0m\u001b[0;34m\u001b[0m\u001b[0;34m\u001b[0m\u001b[0m\n",
      "\u001b[0;32m/usr/local/Cellar/python@3.8/3.8.6_1/Frameworks/Python.framework/Versions/3.8/lib/python3.8/subprocess.py\u001b[0m in \u001b[0;36m_execute_child\u001b[0;34m(self, args, executable, preexec_fn, close_fds, pass_fds, cwd, env, startupinfo, creationflags, shell, p2cread, p2cwrite, c2pread, c2pwrite, errread, errwrite, restore_signals, start_new_session)\u001b[0m\n\u001b[1;32m   1701\u001b[0m                         \u001b[0merr_msg\u001b[0m \u001b[0;34m=\u001b[0m \u001b[0mos\u001b[0m\u001b[0;34m.\u001b[0m\u001b[0mstrerror\u001b[0m\u001b[0;34m(\u001b[0m\u001b[0merrno_num\u001b[0m\u001b[0;34m)\u001b[0m\u001b[0;34m\u001b[0m\u001b[0;34m\u001b[0m\u001b[0m\n\u001b[0;32m-> 1702\u001b[0;31m                     \u001b[0;32mraise\u001b[0m \u001b[0mchild_exception_type\u001b[0m\u001b[0;34m(\u001b[0m\u001b[0merrno_num\u001b[0m\u001b[0;34m,\u001b[0m \u001b[0merr_msg\u001b[0m\u001b[0;34m,\u001b[0m \u001b[0merr_filename\u001b[0m\u001b[0;34m)\u001b[0m\u001b[0;34m\u001b[0m\u001b[0;34m\u001b[0m\u001b[0m\n\u001b[0m\u001b[1;32m   1703\u001b[0m                 \u001b[0;32mraise\u001b[0m \u001b[0mchild_exception_type\u001b[0m\u001b[0;34m(\u001b[0m\u001b[0merr_msg\u001b[0m\u001b[0;34m)\u001b[0m\u001b[0;34m\u001b[0m\u001b[0;34m\u001b[0m\u001b[0m\n",
      "\u001b[0;31mFileNotFoundError\u001b[0m: [Errno 2] No such file or directory: 'fpcalc'",
      "\nDuring handling of the above exception, another exception occurred:\n",
      "\u001b[0;31mNoBackendError\u001b[0m                            Traceback (most recent call last)",
      "\u001b[0;32m<ipython-input-14-a9a712d1dce1>\u001b[0m in \u001b[0;36m<module>\u001b[0;34m\u001b[0m\n\u001b[0;32m----> 1\u001b[0;31m \u001b[0mduration1\u001b[0m\u001b[0;34m,\u001b[0m \u001b[0mfingerprint1\u001b[0m \u001b[0;34m=\u001b[0m \u001b[0macoustid\u001b[0m\u001b[0;34m.\u001b[0m\u001b[0mfingerprint_file\u001b[0m\u001b[0;34m(\u001b[0m\u001b[0;34m'data/dubstep_beat_1.wav'\u001b[0m\u001b[0;34m)\u001b[0m\u001b[0;34m\u001b[0m\u001b[0;34m\u001b[0m\u001b[0m\n\u001b[0m",
      "\u001b[0;32m/usr/local/lib/python3.8/site-packages/acoustid.py\u001b[0m in \u001b[0;36mfingerprint_file\u001b[0;34m(path, maxlength, force_fpcalc)\u001b[0m\n\u001b[1;32m    333\u001b[0m         \u001b[0;32mreturn\u001b[0m \u001b[0m_fingerprint_file_audioread\u001b[0m\u001b[0;34m(\u001b[0m\u001b[0mpath\u001b[0m\u001b[0;34m,\u001b[0m \u001b[0mmaxlength\u001b[0m\u001b[0;34m)\u001b[0m\u001b[0;34m\u001b[0m\u001b[0;34m\u001b[0m\u001b[0m\n\u001b[1;32m    334\u001b[0m     \u001b[0;32melse\u001b[0m\u001b[0;34m:\u001b[0m\u001b[0;34m\u001b[0m\u001b[0;34m\u001b[0m\u001b[0m\n\u001b[0;32m--> 335\u001b[0;31m         \u001b[0;32mreturn\u001b[0m \u001b[0m_fingerprint_file_fpcalc\u001b[0m\u001b[0;34m(\u001b[0m\u001b[0mpath\u001b[0m\u001b[0;34m,\u001b[0m \u001b[0mmaxlength\u001b[0m\u001b[0;34m)\u001b[0m\u001b[0;34m\u001b[0m\u001b[0;34m\u001b[0m\u001b[0m\n\u001b[0m\u001b[1;32m    336\u001b[0m \u001b[0;34m\u001b[0m\u001b[0m\n\u001b[1;32m    337\u001b[0m \u001b[0;34m\u001b[0m\u001b[0m\n",
      "\u001b[0;32m/usr/local/lib/python3.8/site-packages/acoustid.py\u001b[0m in \u001b[0;36m_fingerprint_file_fpcalc\u001b[0;34m(path, maxlength)\u001b[0m\n\u001b[1;32m    290\u001b[0m     \u001b[0;32mexcept\u001b[0m \u001b[0mOSError\u001b[0m \u001b[0;32mas\u001b[0m \u001b[0mexc\u001b[0m\u001b[0;34m:\u001b[0m\u001b[0;34m\u001b[0m\u001b[0;34m\u001b[0m\u001b[0m\n\u001b[1;32m    291\u001b[0m         \u001b[0;32mif\u001b[0m \u001b[0mexc\u001b[0m\u001b[0;34m.\u001b[0m\u001b[0merrno\u001b[0m \u001b[0;34m==\u001b[0m \u001b[0merrno\u001b[0m\u001b[0;34m.\u001b[0m\u001b[0mENOENT\u001b[0m\u001b[0;34m:\u001b[0m\u001b[0;34m\u001b[0m\u001b[0;34m\u001b[0m\u001b[0m\n\u001b[0;32m--> 292\u001b[0;31m             \u001b[0;32mraise\u001b[0m \u001b[0mNoBackendError\u001b[0m\u001b[0;34m(\u001b[0m\u001b[0;34m\"fpcalc not found\"\u001b[0m\u001b[0;34m)\u001b[0m\u001b[0;34m\u001b[0m\u001b[0;34m\u001b[0m\u001b[0m\n\u001b[0m\u001b[1;32m    293\u001b[0m         \u001b[0;32melse\u001b[0m\u001b[0;34m:\u001b[0m\u001b[0;34m\u001b[0m\u001b[0;34m\u001b[0m\u001b[0m\n\u001b[1;32m    294\u001b[0m             raise FingerprintGenerationError(\"fpcalc invocation failed: %s\" %\n",
      "\u001b[0;31mNoBackendError\u001b[0m: fpcalc not found"
     ]
    }
   ],
   "source": [
    "duration1, fingerprint1 = acoustid.fingerprint_file('data/dubstep_beat_1.wav')"
   ]
  },
  {
   "cell_type": "code",
   "execution_count": 10,
   "metadata": {},
   "outputs": [],
   "source": [
    "duration2, fingerprint2 = acoustid.fingerprint_file('data/dubstep_drum.mp3')"
   ]
  },
  {
   "cell_type": "code",
   "execution_count": 82,
   "metadata": {},
   "outputs": [],
   "source": [
    "popcnt_table_8bit = [\n",
    "    0,1,1,2,1,2,2,3,1,2,2,3,2,3,3,4,1,2,2,3,2,3,3,4,2,3,3,4,3,4,4,5,\n",
    "    1,2,2,3,2,3,3,4,2,3,3,4,3,4,4,5,2,3,3,4,3,4,4,5,3,4,4,5,4,5,5,6,\n",
    "    1,2,2,3,2,3,3,4,2,3,3,4,3,4,4,5,2,3,3,4,3,4,4,5,3,4,4,5,4,5,5,6,\n",
    "    2,3,3,4,3,4,4,5,3,4,4,5,4,5,5,6,3,4,4,5,4,5,5,6,4,5,5,6,5,6,6,7,\n",
    "    1,2,2,3,2,3,3,4,2,3,3,4,3,4,4,5,2,3,3,4,3,4,4,5,3,4,4,5,4,5,5,6,\n",
    "    2,3,3,4,3,4,4,5,3,4,4,5,4,5,5,6,3,4,4,5,4,5,5,6,4,5,5,6,5,6,6,7,\n",
    "    2,3,3,4,3,4,4,5,3,4,4,5,4,5,5,6,3,4,4,5,4,5,5,6,4,5,5,6,5,6,6,7,\n",
    "    3,4,4,5,4,5,5,6,4,5,5,6,5,6,6,7,4,5,5,6,5,6,6,7,5,6,6,7,6,7,7,8,\n",
    "]\n",
    "\n",
    "def popcnt(x):\n",
    "    \"\"\"\n",
    "    Count the number of set bits in the given 32-bit integer.\n",
    "    \"\"\"\n",
    "    return (popcnt_table_8bit[(x >>  0) & 0xFF] +\n",
    "            popcnt_table_8bit[(x >>  8) & 0xFF] +\n",
    "            popcnt_table_8bit[(x >> 16) & 0xFF] +\n",
    "            popcnt_table_8bit[(x >> 24) & 0xFF])"
   ]
  },
  {
   "cell_type": "code",
   "execution_count": 83,
   "metadata": {},
   "outputs": [],
   "source": [
    "def compare_fingerprints(fp1, fp2):\n",
    "    error = 0\n",
    "    for x, y in zip(fp1, fp2):\n",
    "        error += popcnt(x ^ y)\n",
    "    print(1.0 - error / 32.0 / min(len(fp1), len(fp2)))"
   ]
  },
  {
   "cell_type": "code",
   "execution_count": 84,
   "metadata": {},
   "outputs": [
    {
     "ename": "NameError",
     "evalue": "name 'fingerprint1' is not defined",
     "output_type": "error",
     "traceback": [
      "\u001b[0;31m---------------------------------------------------------------------------\u001b[0m",
      "\u001b[0;31mNameError\u001b[0m                                 Traceback (most recent call last)",
      "\u001b[0;32m<ipython-input-84-8780d165868f>\u001b[0m in \u001b[0;36m<module>\u001b[0;34m\u001b[0m\n\u001b[0;32m----> 1\u001b[0;31m \u001b[0mfingerprint1\u001b[0m\u001b[0;34m\u001b[0m\u001b[0;34m\u001b[0m\u001b[0m\n\u001b[0m",
      "\u001b[0;31mNameError\u001b[0m: name 'fingerprint1' is not defined"
     ]
    }
   ],
   "source": [
    "fingerprint1"
   ]
  },
  {
   "cell_type": "code",
   "execution_count": 85,
   "metadata": {},
   "outputs": [],
   "source": [
    "fpcalc_out=\"FINGERPRINT=1097131814,1097099559,1365727511,1365661973,1365661957,1366711749,1364641157,1398194565,1398194565,1398199175,1406583687,1408680903,1374012262,1373946150,1365566758,1348756790,1348951318,1348951319,1348885783,1432769815,1432831255,1165391175,1163281863,1163314631,1163314631,1163380215,1163183463,1163191655,1163392263,1165481239,1165350263,1198810471,1196914007,1196836295,1196934615,1196742053,1196746165,1196946839,1196938647,1196937623,1196814743,1196814807,1199002391,1098348311,1097301815,1097088805,1097083237,1365536229,1400329605,1398198661,1381417349,1138147719,1140245127,1135002439,1105511206,1105512230,1097101095,1097292063,1097292053,1130780949,1130781125,1131826565,1129760133,1398260101,1398198661,1398198663,1375126151,1369883607,1373946662,1373955878,1348792102,1348984086,1348951319,1348885767,1415992599,1432765719,1433826631,1163281863,1163281863,1163314631,1171768791,1163183463,1163191655,1163388183,1165415687,1165481335,1198847335,1198875991,1196840263\"\n",
    "fpcalc_out2=\"FINGERPRINT=1699902959,1701988079,1710444271,1706118879,1706098375,1708191303,1741745935,1733422367,1733424159,1733555231,1733554207,1729319039,1729196287,1697870335,1702000623,1710378735,1710444287,1706127071,1706094287,1708191311,1708191503,1733424415,1733424191,1733424191,1733554239,1729359999,1695764735,1695774207,1702000623,1710378735,1710444271,1706151639,1710288455,1708191303,1741745935,1733424415,1733424191\""
   ]
  },
  {
   "cell_type": "code",
   "execution_count": 86,
   "metadata": {},
   "outputs": [],
   "source": [
    "fingerprint_index = fpcalc_out.find('FINGERPRINT=') + 12"
   ]
  },
  {
   "cell_type": "code",
   "execution_count": 87,
   "metadata": {},
   "outputs": [],
   "source": [
    "fp1 = list(map(int, fpcalc_out[fingerprint_index:].split(',')))\n",
    "fp2 = list(map(int, fpcalc_out2[fingerprint_index:].split(',')))"
   ]
  },
  {
   "cell_type": "code",
   "execution_count": 90,
   "metadata": {},
   "outputs": [
    {
     "name": "stdout",
     "output_type": "stream",
     "text": [
      "0.5793918918918919\n"
     ]
    }
   ],
   "source": [
    "compare_fingerprints(fp1, fp2)"
   ]
  },
  {
   "cell_type": "markdown",
   "metadata": {},
   "source": [
    "### Otázky\n",
    " - Jak kombinovat více deskriptorů?\n",
    " - Co s různou délkou souborů? Co když je nahrávka uprostřed toho druhého songu?\n",
    " - Co s výkonností u porovnávání deskriptorů?\n"
   ]
  }
 ],
 "metadata": {
  "kernelspec": {
   "display_name": "Python 3",
   "language": "python",
   "name": "python3"
  },
  "language_info": {
   "codemirror_mode": {
    "name": "ipython",
    "version": 3
   },
   "file_extension": ".py",
   "mimetype": "text/x-python",
   "name": "python",
   "nbconvert_exporter": "python",
   "pygments_lexer": "ipython3",
   "version": "3.8.6"
  }
 },
 "nbformat": 4,
 "nbformat_minor": 4
}
