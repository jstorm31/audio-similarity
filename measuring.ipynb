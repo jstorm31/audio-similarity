{
 "cells": [
  {
   "cell_type": "markdown",
   "metadata": {},
   "source": [
    "# Measuring"
   ]
  },
  {
   "cell_type": "code",
   "execution_count": 84,
   "metadata": {},
   "outputs": [],
   "source": [
    "import requests\n",
    "import json"
   ]
  },
  {
   "cell_type": "code",
   "execution_count": 7,
   "metadata": {},
   "outputs": [],
   "source": [
    "test_files = ['friendly_guitar.wav', 'piano_sonata.mp3', 'Sound_Barrier_Gydra_Remix_trimmed.m4a']"
   ]
  },
  {
   "cell_type": "code",
   "execution_count": 96,
   "metadata": {},
   "outputs": [],
   "source": [
    "def search(file, engine, k, sample_size, n_mfcc, n_average):\n",
    "    url = 'http://localhost:5000/search'\n",
    "    files = { 'audiotrack': open('data/' + file, 'rb') }\n",
    "    data = { 'top_k': k, 'engine': engine, 'sample_size': sample_size, 'n_mfcc': n_mfcc, 'n_average': n_average }\n",
    "    response = requests.post(url, data=data, files=files)\n",
    "    return response.json()"
   ]
  },
  {
   "cell_type": "markdown",
   "metadata": {},
   "source": [
    "## Chromaprint cross correlation\n",
    "Params: `span`, `step`"
   ]
  },
  {
   "cell_type": "code",
   "execution_count": 92,
   "metadata": {},
   "outputs": [],
   "source": [
    "all_spans = [10, 20, 40, 80, 160]\n",
    "all_steps = [1, 2, 4, 8]\n",
    "all_sample_sizes = [100, 200, 400]\n",
    "all_n_mfccs = [3, 6, 10]\n",
    "all_n_averages = [1, 2, 3]"
   ]
  },
  {
   "cell_type": "markdown",
   "metadata": {},
   "source": [
    "Run database construction script with all parameters combinations followed by search requests"
   ]
  },
  {
   "cell_type": "code",
   "execution_count": 109,
   "metadata": {},
   "outputs": [],
   "source": [
    "def run_test(sample_sizes, n_mfccs, n_averages):\n",
    "    engine = 'mfcc'\n",
    "    report = []\n",
    "    \n",
    "    for sample_size in sample_sizes:  \n",
    "        for n_mfcc in n_mfccs:\n",
    "            for n_average in n_averages:\n",
    "                print(\"sample_size %i, n_mfcc %i, n_average %i\" % (sample_size, n_mfcc, n_average))\n",
    "                output = !docker-compose exec -T server env PARAM_SAMPLE_SIZE=$sample_size PARAM_N_MFCC=$n_mfcc PARAM_N_AVERAGE=$n_average python ./db.py -e $engine -c\n",
    "                build_time = float(output[-1][-7:-2])\n",
    "\n",
    "                avg_time = 0\n",
    "                results = []\n",
    "                for file in test_files:\n",
    "                    json_resp = search(file, engine, 5, sample_size, n_mfcc, n_average)\n",
    "                    results.append(json_resp['data'])\n",
    "                    avg_time += json_resp['time']\n",
    "                avg_time /= len(test_files)\n",
    "\n",
    "                report.append({\n",
    "                    'sample_size': sample_size,\n",
    "                    'n_mfcc': n_mfcc,\n",
    "                    'n_average': n_average,\n",
    "                    'results': {\n",
    "                        'build_time': build_time,\n",
    "                        'avg_time': avg_time,\n",
    "                        'data': results\n",
    "                    }\n",
    "                })\n",
    "        \n",
    "    with open('reports/%s.json' % engine, 'w') as outfile:\n",
    "        json.dump(report, outfile)\n",
    "        print(\"Successfuly saved results to %s.json\" % engine)"
   ]
  },
  {
   "cell_type": "code",
   "execution_count": 112,
   "metadata": {},
   "outputs": [
    {
     "name": "stdout",
     "output_type": "stream",
     "text": [
      "sample_size 200, n_mfcc 6, n_average 1\n",
      "sample_size 200, n_mfcc 6, n_average 2\n",
      "sample_size 200, n_mfcc 6, n_average 3\n",
      "Successfuly saved results to mfcc.json\n"
     ]
    }
   ],
   "source": [
    "run_test([200], [6], all_n_averages)"
   ]
  },
  {
   "cell_type": "code",
   "execution_count": null,
   "metadata": {},
   "outputs": [],
   "source": []
  }
 ],
 "metadata": {
  "kernelspec": {
   "display_name": "Python 3",
   "language": "python",
   "name": "python3"
  },
  "language_info": {
   "codemirror_mode": {
    "name": "ipython",
    "version": 3
   },
   "file_extension": ".py",
   "mimetype": "text/x-python",
   "name": "python",
   "nbconvert_exporter": "python",
   "pygments_lexer": "ipython3",
   "version": "3.8.6"
  }
 },
 "nbformat": 4,
 "nbformat_minor": 4
}
